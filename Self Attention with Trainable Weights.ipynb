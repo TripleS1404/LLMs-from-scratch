{
 "cells": [
  {
   "cell_type": "code",
   "execution_count": 1,
   "id": "36c8c71a-1ed2-4ef4-a0c3-2c8731a74a06",
   "metadata": {},
   "outputs": [],
   "source": [
    "import torch"
   ]
  },
  {
   "cell_type": "code",
   "execution_count": 2,
   "id": "65526e35-32a7-47e2-acee-63a5e06fe675",
   "metadata": {},
   "outputs": [],
   "source": [
    "inputs=torch.tensor([[0.43,0.15,0.89],\n",
    "                    [0.55,0.87,0.66],\n",
    "                    [0.57,0.85,0.64],\n",
    "                    [0.22,0.58,0.33],\n",
    "                    [0.77,0.25,0.10],\n",
    "                    [0.05,0.80,0.55]]\n",
    "                   )"
   ]
  },
  {
   "cell_type": "code",
   "execution_count": 3,
   "id": "e5827da7-d7c6-4406-a2e0-eb551325dd99",
   "metadata": {},
   "outputs": [],
   "source": [
    "x2=inputs[1]\n",
    "din=inputs.shape[1]\n",
    "dout=2"
   ]
  },
  {
   "cell_type": "code",
   "execution_count": 4,
   "id": "e38fd583-c753-4a2c-8c2f-a56b35c102bc",
   "metadata": {},
   "outputs": [],
   "source": [
    "torch.manual_seed(123)\n",
    "wquery=torch.nn.Parameter(torch.rand(din,dout),requires_grad=False)\n",
    "wkey=torch.nn.Parameter(torch.rand(din,dout),requires_grad=False)\n",
    "wvalue=torch.nn.Parameter(torch.rand(din,dout),requires_grad=False)"
   ]
  },
  {
   "cell_type": "code",
   "execution_count": 5,
   "id": "465b91b5-edf6-46d5-a3ab-4126477555a5",
   "metadata": {},
   "outputs": [
    {
     "name": "stdout",
     "output_type": "stream",
     "text": [
      "Parameter containing:\n",
      "tensor([[0.2961, 0.5166],\n",
      "        [0.2517, 0.6886],\n",
      "        [0.0740, 0.8665]])\n"
     ]
    }
   ],
   "source": [
    "print(wquery)"
   ]
  },
  {
   "cell_type": "code",
   "execution_count": 6,
   "id": "977bac9d-c909-479e-a7d1-6b3159e58034",
   "metadata": {},
   "outputs": [
    {
     "name": "stdout",
     "output_type": "stream",
     "text": [
      "Parameter containing:\n",
      "tensor([[0.1366, 0.1025],\n",
      "        [0.1841, 0.7264],\n",
      "        [0.3153, 0.6871]])\n"
     ]
    }
   ],
   "source": [
    "print(wkey)"
   ]
  },
  {
   "cell_type": "code",
   "execution_count": 7,
   "id": "3a0b40b4-ffe5-421e-ae92-6f4925165662",
   "metadata": {},
   "outputs": [
    {
     "name": "stdout",
     "output_type": "stream",
     "text": [
      "Parameter containing:\n",
      "tensor([[0.0756, 0.1966],\n",
      "        [0.3164, 0.4017],\n",
      "        [0.1186, 0.8274]])\n"
     ]
    }
   ],
   "source": [
    "print(wvalue)"
   ]
  },
  {
   "cell_type": "code",
   "execution_count": 8,
   "id": "d9eec4d8-ab73-42dd-92f0-14bd2ebbee49",
   "metadata": {},
   "outputs": [
    {
     "name": "stdout",
     "output_type": "stream",
     "text": [
      "tensor([0.4306, 1.4551])\n"
     ]
    }
   ],
   "source": [
    "query2=x2 @ wquery\n",
    "key2= x2 @ wkey\n",
    "value2= x2 @ wvalue\n",
    "print(query2)"
   ]
  },
  {
   "cell_type": "code",
   "execution_count": 9,
   "id": "6550a305-e571-4dd0-9ff7-c8dd6044cac5",
   "metadata": {},
   "outputs": [
    {
     "name": "stdout",
     "output_type": "stream",
     "text": [
      "keys.shape: torch.Size([6, 2])\n",
      "values.shape: torch.Size([6, 2])\n",
      "queries.shape: torch.Size([6, 2])\n"
     ]
    }
   ],
   "source": [
    "keys = inputs @ wkey\n",
    "values = inputs @ wvalue\n",
    "queries = inputs @ wquery\n",
    "\n",
    "print(\"keys.shape:\",keys.shape)\n",
    "print(\"values.shape:\",values.shape)\n",
    "print(\"queries.shape:\",queries.shape)"
   ]
  },
  {
   "cell_type": "code",
   "execution_count": 10,
   "id": "a6450557-d4ca-425f-a136-f4adc451af9b",
   "metadata": {},
   "outputs": [
    {
     "name": "stdout",
     "output_type": "stream",
     "text": [
      "tensor(1.8524)\n"
     ]
    }
   ],
   "source": [
    "keys2=keys[1]\n",
    "attnscore22=query2.dot(key2)\n",
    "print(attnscore22)"
   ]
  },
  {
   "cell_type": "code",
   "execution_count": 11,
   "id": "6da4b591-9862-4b6c-a4f0-a08ab03b71fc",
   "metadata": {},
   "outputs": [
    {
     "name": "stdout",
     "output_type": "stream",
     "text": [
      "tensor([1.2705, 1.8524, 1.8111, 1.0795, 0.5577, 1.5440])\n"
     ]
    }
   ],
   "source": [
    "attnscore2=query2 @ keys.T\n",
    "print(attnscore2)"
   ]
  },
  {
   "cell_type": "code",
   "execution_count": 12,
   "id": "954bee92-e720-4051-ace9-db152be4685e",
   "metadata": {},
   "outputs": [
    {
     "name": "stdout",
     "output_type": "stream",
     "text": [
      "tensor([[0.9231, 1.3545, 1.3241, 0.7910, 0.4032, 1.1330],\n",
      "        [1.2705, 1.8524, 1.8111, 1.0795, 0.5577, 1.5440],\n",
      "        [1.2544, 1.8284, 1.7877, 1.0654, 0.5508, 1.5238],\n",
      "        [0.6973, 1.0167, 0.9941, 0.5925, 0.3061, 0.8475],\n",
      "        [0.6114, 0.8819, 0.8626, 0.5121, 0.2707, 0.7307],\n",
      "        [0.8995, 1.3165, 1.2871, 0.7682, 0.3937, 1.0996]])\n"
     ]
    }
   ],
   "source": [
    "attn_scores = queries @ keys.T\n",
    "print(attn_scores)"
   ]
  },
  {
   "cell_type": "code",
   "execution_count": 13,
   "id": "a39e443d-9d9c-4697-860e-1b2706159b38",
   "metadata": {},
   "outputs": [
    {
     "name": "stdout",
     "output_type": "stream",
     "text": [
      "tensor([0.1500, 0.2264, 0.2199, 0.1311, 0.0906, 0.1820])\n",
      "2\n"
     ]
    }
   ],
   "source": [
    "dk=keys.shape[-1]\n",
    "attnweights2=torch.softmax(attnscore2/dk**0.5, dim = -1)\n",
    "print(attnweights2)\n",
    "print(dk)"
   ]
  },
  {
   "cell_type": "code",
   "execution_count": 14,
   "id": "bdc58fbf-95ff-4e47-a964-ee8edc47dbe1",
   "metadata": {},
   "outputs": [
    {
     "name": "stdout",
     "output_type": "stream",
     "text": [
      "tensor([0.3061, 0.8210])\n"
     ]
    }
   ],
   "source": [
    "contextvec2=attnweights2 @ values\n",
    "print(contextvec2)"
   ]
  },
  {
   "cell_type": "code",
   "execution_count": 15,
   "id": "1bd38740-1b03-4b10-82e9-b596218734d0",
   "metadata": {},
   "outputs": [],
   "source": [
    "import torch.nn as nn"
   ]
  },
  {
   "cell_type": "code",
   "execution_count": 16,
   "id": "eba062c8-d1c0-435e-a56e-e67f06823524",
   "metadata": {},
   "outputs": [],
   "source": [
    "class selfattentionv1(nn.Module):\n",
    "    def __init__(self,din,dout):\n",
    "        super().__init__()\n",
    "        self.wquery=nn.Parameter(torch.rand(din,dout))\n",
    "        self.wkey=nn.Parameter(torch.rand(din,dout))\n",
    "        self.wvalue=nn.Parameter(torch.rand(din,dout))\n",
    "    def forward(self,x):\n",
    "        keys = x @ self.wkey\n",
    "        queries= x @ self.wquery\n",
    "        values = x @ self.wvalue\n",
    "\n",
    "        attnscores= queries @ keys.T\n",
    "        attnweights = torch.softmax(attnscores/keys.shape[-1]**0.5,dim=-1)\n",
    "\n",
    "        context_vector= attnweights @ values\n",
    "        return context_vector"
   ]
  },
  {
   "cell_type": "code",
   "execution_count": 17,
   "id": "cb1787c3-78d5-4a26-b35b-fa3f284a8633",
   "metadata": {},
   "outputs": [
    {
     "name": "stdout",
     "output_type": "stream",
     "text": [
      "tensor([[0.2996, 0.8053],\n",
      "        [0.3061, 0.8210],\n",
      "        [0.3058, 0.8203],\n",
      "        [0.2948, 0.7939],\n",
      "        [0.2927, 0.7891],\n",
      "        [0.2990, 0.8040]], grad_fn=<MmBackward0>)\n"
     ]
    }
   ],
   "source": [
    "torch.manual_seed(123)\n",
    "sav1=selfattentionv1(din,dout)\n",
    "print(sav1(inputs))"
   ]
  },
  {
   "cell_type": "code",
   "execution_count": 18,
   "id": "b0859222-1c33-40e0-ad9a-a6917131de87",
   "metadata": {},
   "outputs": [],
   "source": [
    "class selfattentionv2(nn.Module):\n",
    "    def __init__(self,din,dout,qkv_bias=False):\n",
    "        super().__init__()\n",
    "        self.wquery=nn.Linear(din,dout,bias=qkv_bias)\n",
    "        self.wkey=nn.Linear(din,dout,bias=qkv_bias)\n",
    "        self.wvalue=nn.Linear(din,dout,bias=qkv_bias)\n",
    "    def forward(self,x):\n",
    "        keys =self.wkey(x)\n",
    "        queries=self.wquery(x)\n",
    "        values =self.wvalue(x)\n",
    "\n",
    "        attnscores= queries @ keys.T\n",
    "        attnweights = torch.softmax(attnscores/keys.shape[-1]**0.5,dim=-1)\n",
    "\n",
    "        context_vector= attnweights @ values\n",
    "        return context_vector"
   ]
  },
  {
   "cell_type": "code",
   "execution_count": 19,
   "id": "f310007f-0a52-4437-9f18-a978dad3f13a",
   "metadata": {},
   "outputs": [
    {
     "name": "stdout",
     "output_type": "stream",
     "text": [
      "tensor([[-0.5337, -0.1051],\n",
      "        [-0.5323, -0.1080],\n",
      "        [-0.5323, -0.1079],\n",
      "        [-0.5297, -0.1076],\n",
      "        [-0.5311, -0.1066],\n",
      "        [-0.5299, -0.1081]], grad_fn=<MmBackward0>)\n"
     ]
    }
   ],
   "source": [
    "torch.manual_seed(123)\n",
    "sav2=selfattentionv2(din,dout)\n",
    "print(sav2(inputs))"
   ]
  },
  {
   "cell_type": "code",
   "execution_count": 20,
   "id": "04fda791-8c1c-4d6e-82c2-1fb484adb55d",
   "metadata": {},
   "outputs": [],
   "source": [
    "inputs=torch.tensor([[0.43,0.15,0.89],\n",
    "                    [0.55,0.87,0.66],\n",
    "                    [0.57,0.85,0.64],\n",
    "                    [0.22,0.58,0.33],\n",
    "                    [0.77,0.25,0.10],\n",
    "                    [0.05,0.80,0.55]]\n",
    "                   )"
   ]
  },
  {
   "cell_type": "code",
   "execution_count": 21,
   "id": "aea4e641-3b26-43c5-a2ce-f9fe1e549c7e",
   "metadata": {},
   "outputs": [
    {
     "name": "stdout",
     "output_type": "stream",
     "text": [
      "tensor([[0.1717, 0.1762, 0.1761, 0.1555, 0.1627, 0.1579],\n",
      "        [0.1636, 0.1749, 0.1746, 0.1612, 0.1605, 0.1652],\n",
      "        [0.1637, 0.1749, 0.1746, 0.1611, 0.1606, 0.1651],\n",
      "        [0.1636, 0.1704, 0.1702, 0.1652, 0.1632, 0.1674],\n",
      "        [0.1667, 0.1722, 0.1721, 0.1618, 0.1633, 0.1639],\n",
      "        [0.1624, 0.1709, 0.1706, 0.1654, 0.1625, 0.1682]],\n",
      "       grad_fn=<SoftmaxBackward0>)\n"
     ]
    }
   ],
   "source": [
    "queries = sav2.wquery(inputs)\n",
    "keys = sav2.wkey(inputs)\n",
    "attnscores= queries @ keys.T\n",
    "attnweights = torch. softmax(attnscores/keys.shape[-1]**0.5,dim=1)\n",
    "print(attnweights)"
   ]
  },
  {
   "cell_type": "code",
   "execution_count": 22,
   "id": "a564b48a-2ee6-481d-b380-3101f44fe1cd",
   "metadata": {},
   "outputs": [
    {
     "name": "stdout",
     "output_type": "stream",
     "text": [
      "tensor([[1., 0., 0., 0., 0., 0.],\n",
      "        [1., 1., 0., 0., 0., 0.],\n",
      "        [1., 1., 1., 0., 0., 0.],\n",
      "        [1., 1., 1., 1., 0., 0.],\n",
      "        [1., 1., 1., 1., 1., 0.],\n",
      "        [1., 1., 1., 1., 1., 1.]])\n"
     ]
    }
   ],
   "source": [
    "contextlength=attnscores.shape[0]\n",
    "masksimple=torch.tril(torch.ones(contextlength,contextlength))\n",
    "print(masksimple)"
   ]
  },
  {
   "cell_type": "code",
   "execution_count": 23,
   "id": "7cb55f74-4479-425d-b773-b3b2d979ccb8",
   "metadata": {},
   "outputs": [
    {
     "name": "stdout",
     "output_type": "stream",
     "text": [
      "tensor([[0.1717, 0.0000, 0.0000, 0.0000, 0.0000, 0.0000],\n",
      "        [0.1636, 0.1749, 0.0000, 0.0000, 0.0000, 0.0000],\n",
      "        [0.1637, 0.1749, 0.1746, 0.0000, 0.0000, 0.0000],\n",
      "        [0.1636, 0.1704, 0.1702, 0.1652, 0.0000, 0.0000],\n",
      "        [0.1667, 0.1722, 0.1721, 0.1618, 0.1633, 0.0000],\n",
      "        [0.1624, 0.1709, 0.1706, 0.1654, 0.1625, 0.1682]],\n",
      "       grad_fn=<MulBackward0>)\n"
     ]
    }
   ],
   "source": [
    "maskedsimple= attnweights * masksimple\n",
    "print(maskedsimple)"
   ]
  },
  {
   "cell_type": "code",
   "execution_count": 24,
   "id": "db36bce0-7394-4fbe-b040-c511862abaef",
   "metadata": {},
   "outputs": [
    {
     "name": "stdout",
     "output_type": "stream",
     "text": [
      "tensor([[1.0000, 0.0000, 0.0000, 0.0000, 0.0000, 0.0000],\n",
      "        [0.4833, 0.5167, 0.0000, 0.0000, 0.0000, 0.0000],\n",
      "        [0.3190, 0.3408, 0.3402, 0.0000, 0.0000, 0.0000],\n",
      "        [0.2445, 0.2545, 0.2542, 0.2468, 0.0000, 0.0000],\n",
      "        [0.1994, 0.2060, 0.2058, 0.1935, 0.1953, 0.0000],\n",
      "        [0.1624, 0.1709, 0.1706, 0.1654, 0.1625, 0.1682]],\n",
      "       grad_fn=<DivBackward0>)\n"
     ]
    }
   ],
   "source": [
    "rowssum=maskedsimple.sum(dim=1,keepdim=True)\n",
    "normmaskedsimple = maskedsimple/rowssum\n",
    "print(normmaskedsimple)"
   ]
  },
  {
   "cell_type": "code",
   "execution_count": 26,
   "id": "c9b0a2cf-1f13-47a9-8838-ada788b834ea",
   "metadata": {},
   "outputs": [
    {
     "name": "stdout",
     "output_type": "stream",
     "text": [
      "tensor([[0., 1., 1., 1., 1., 1.],\n",
      "        [0., 0., 1., 1., 1., 1.],\n",
      "        [0., 0., 0., 1., 1., 1.],\n",
      "        [0., 0., 0., 0., 1., 1.],\n",
      "        [0., 0., 0., 0., 0., 1.],\n",
      "        [0., 0., 0., 0., 0., 0.]])\n"
     ]
    }
   ],
   "source": [
    "mask=torch.triu(torch.ones(contextlength,contextlength),diagonal=1)\n",
    "print(mask)"
   ]
  },
  {
   "cell_type": "code",
   "execution_count": 27,
   "id": "928c8e7d-6507-49f2-80e4-c2ff78ef6e7e",
   "metadata": {},
   "outputs": [
    {
     "name": "stdout",
     "output_type": "stream",
     "text": [
      "tensor([[0.3111,   -inf,   -inf,   -inf,   -inf,   -inf],\n",
      "        [0.1655, 0.2602,   -inf,   -inf,   -inf,   -inf],\n",
      "        [0.1667, 0.2602, 0.2577,   -inf,   -inf,   -inf],\n",
      "        [0.0510, 0.1080, 0.1064, 0.0643,   -inf,   -inf],\n",
      "        [0.1415, 0.1875, 0.1863, 0.0987, 0.1121,   -inf],\n",
      "        [0.0476, 0.1192, 0.1171, 0.0731, 0.0477, 0.0966]],\n",
      "       grad_fn=<MaskedFillBackward0>)\n"
     ]
    }
   ],
   "source": [
    "masked=attnscores.masked_fill(mask.bool(),-torch.inf)\n",
    "print(masked)"
   ]
  },
  {
   "cell_type": "code",
   "execution_count": 28,
   "id": "854ea5c2-f7cc-4738-ac17-8b93bdeaabf7",
   "metadata": {},
   "outputs": [
    {
     "name": "stdout",
     "output_type": "stream",
     "text": [
      "tensor([[1.0000, 0.0000, 0.0000, 0.0000, 0.0000, 0.0000],\n",
      "        [0.4833, 0.5167, 0.0000, 0.0000, 0.0000, 0.0000],\n",
      "        [0.3190, 0.3408, 0.3402, 0.0000, 0.0000, 0.0000],\n",
      "        [0.2445, 0.2545, 0.2542, 0.2468, 0.0000, 0.0000],\n",
      "        [0.1994, 0.2060, 0.2058, 0.1935, 0.1953, 0.0000],\n",
      "        [0.1624, 0.1709, 0.1706, 0.1654, 0.1625, 0.1682]],\n",
      "       grad_fn=<SoftmaxBackward0>)\n"
     ]
    }
   ],
   "source": [
    "attnweights=torch.softmax(masked/keys.shape[-1]**0.5,dim=1)\n",
    "print(attnweights)"
   ]
  },
  {
   "cell_type": "code",
   "execution_count": 29,
   "id": "903fc367-7cf4-4364-94af-971ef862f746",
   "metadata": {},
   "outputs": [
    {
     "name": "stdout",
     "output_type": "stream",
     "text": [
      "tensor([[2., 2., 0., 2., 2., 0.],\n",
      "        [0., 0., 0., 2., 0., 2.],\n",
      "        [2., 2., 2., 2., 0., 2.],\n",
      "        [0., 2., 2., 0., 0., 2.],\n",
      "        [0., 2., 0., 2., 0., 2.],\n",
      "        [0., 2., 2., 2., 2., 0.]])\n"
     ]
    }
   ],
   "source": [
    "torch.manual_seed(123)\n",
    "dropout=torch.nn.Dropout(0.5)\n",
    "example=torch.ones(6,6)\n",
    "print(dropout(example))"
   ]
  },
  {
   "cell_type": "code",
   "execution_count": 30,
   "id": "5ceacc33-8c3e-4645-985e-4948c08d477f",
   "metadata": {},
   "outputs": [
    {
     "name": "stdout",
     "output_type": "stream",
     "text": [
      "tensor([[2.0000, 0.0000, 0.0000, 0.0000, 0.0000, 0.0000],\n",
      "        [0.0000, 0.0000, 0.0000, 0.0000, 0.0000, 0.0000],\n",
      "        [0.0000, 0.6816, 0.6804, 0.0000, 0.0000, 0.0000],\n",
      "        [0.0000, 0.0000, 0.5085, 0.4936, 0.0000, 0.0000],\n",
      "        [0.0000, 0.0000, 0.0000, 0.0000, 0.3906, 0.0000],\n",
      "        [0.3249, 0.3418, 0.0000, 0.3308, 0.3249, 0.3363]],\n",
      "       grad_fn=<MulBackward0>)\n"
     ]
    }
   ],
   "source": [
    "print(dropout(attnweights))"
   ]
  },
  {
   "cell_type": "code",
   "execution_count": 31,
   "id": "a15e9388-896c-407a-b843-4f95833b3024",
   "metadata": {},
   "outputs": [
    {
     "name": "stdout",
     "output_type": "stream",
     "text": [
      "torch.Size([2, 6, 3])\n"
     ]
    }
   ],
   "source": [
    "batch=torch.stack((inputs,inputs),dim=0)\n",
    "print(batch.shape)"
   ]
  },
  {
   "cell_type": "code",
   "execution_count": 32,
   "id": "43fbed1a-ce98-4081-8fc0-f501af6ac013",
   "metadata": {},
   "outputs": [],
   "source": [
    "class CausalAttention(nn.Module):\n",
    "\n",
    "    def __init__(self,din,dout,contextlength,dropout,qkvbias=False):\n",
    "        super().__init__()\n",
    "        self.dout=dout\n",
    "        self.wquery=nn.Linear(din,dout,bias=qkvbias)\n",
    "        self.wkey=nn.Linear(din,dout,bias=qkvbias)\n",
    "        self.wvalue=nn.Linear(din,dout,bias=qkvbias)\n",
    "        self.dropout=nn.Dropout(dropout)\n",
    "        self.register_buffer('mask',torch.triu(torch.ones(contextlength,contextlength),diagonal=1))\n",
    "        \n",
    "    def forward(self,x):\n",
    "        b,numtokens,din = x.shape\n",
    "        keys =self.wkey(x)\n",
    "        queries=self.wquery(x)\n",
    "        values =self.wvalue(x)\n",
    "\n",
    "        attnscores= queries @ keys.transpose(1,2)\n",
    "        attnscores.masked_fill_(self.mask.bool()[:numtokens,:numtokens],-torch.inf)\n",
    "        \n",
    "        attnweights = torch.softmax(attnscores/keys.shape[-1]**0.5,dim=-1)\n",
    "        attnweights = self.dropout(attnweights)\n",
    "\n",
    "        context_vector= attnweights @ values\n",
    "        return context_vector\n",
    "    "
   ]
  },
  {
   "cell_type": "code",
   "execution_count": 33,
   "id": "c393b985-335f-4e03-9b0e-7f67dfcd5700",
   "metadata": {},
   "outputs": [
    {
     "name": "stdout",
     "output_type": "stream",
     "text": [
      "context_vecs.shape: torch.Size([2, 6, 2])\n"
     ]
    }
   ],
   "source": [
    "torch.manual_seed(123)\n",
    "contextlength=batch.shape[1]\n",
    "ca=CausalAttention(din,dout,contextlength,0.0)\n",
    "contextvec=ca(batch)\n",
    "print(\"context_vecs.shape:\",contextvec.shape)"
   ]
  },
  {
   "cell_type": "code",
   "execution_count": 34,
   "id": "ab7767b8-e759-41a7-b550-61079ada921d",
   "metadata": {},
   "outputs": [],
   "source": [
    "class MultiHeadAttention(nn.Module):\n",
    "\n",
    "    def __init__(self,din,dout,contextlength,dropout,numheads,qkvbias=False):\n",
    "        super().__init__()\n",
    "        self.heads=nn.ModuleList([CausalAttention(din,dout,contextlength,dropout,qkvbias)\n",
    "                                  for _ in range(numheads)]\n",
    "                                )\n",
    "       \n",
    "    def forward(self,x):\n",
    "        return torch.cat([head(x) for head in self.heads], dim =-1) "
   ]
  },
  {
   "cell_type": "code",
   "execution_count": 35,
   "id": "bd13fa0a-675d-4c19-ac1d-94a5e97481fd",
   "metadata": {},
   "outputs": [
    {
     "name": "stdout",
     "output_type": "stream",
     "text": [
      "tensor([[[-0.4519,  0.2216,  0.4772,  0.1063],\n",
      "         [-0.5874,  0.0058,  0.5891,  0.3257],\n",
      "         [-0.6300, -0.0632,  0.6202,  0.3860],\n",
      "         [-0.5675, -0.0843,  0.5478,  0.3589],\n",
      "         [-0.5526, -0.0981,  0.5321,  0.3428],\n",
      "         [-0.5299, -0.1081,  0.5077,  0.3493]],\n",
      "\n",
      "        [[-0.4519,  0.2216,  0.4772,  0.1063],\n",
      "         [-0.5874,  0.0058,  0.5891,  0.3257],\n",
      "         [-0.6300, -0.0632,  0.6202,  0.3860],\n",
      "         [-0.5675, -0.0843,  0.5478,  0.3589],\n",
      "         [-0.5526, -0.0981,  0.5321,  0.3428],\n",
      "         [-0.5299, -0.1081,  0.5077,  0.3493]]], grad_fn=<CatBackward0>)\n",
      "context vectors shape torch.Size([2, 6, 4])\n"
     ]
    }
   ],
   "source": [
    "torch.manual_seed(123)\n",
    "contextlength=batch.shape[1]\n",
    "din,dout=3,2\n",
    "mha=MultiHeadAttention(din,dout,contextlength,0.0,numheads=2)\n",
    "contextvec=mha(batch)\n",
    "print(contextvec)\n",
    "print(\"context vectors shape\",contextvec.shape)"
   ]
  },
  {
   "cell_type": "code",
   "execution_count": null,
   "id": "a22ad3d8-44e3-4167-a935-a0e0e14d7cd1",
   "metadata": {},
   "outputs": [],
   "source": [
    "import os\n",
    "import urllib.request\n"
   ]
  }
 ],
 "metadata": {
  "kernelspec": {
   "display_name": "Python 3.12 (Torch)",
   "language": "python",
   "name": "python312"
  },
  "language_info": {
   "codemirror_mode": {
    "name": "ipython",
    "version": 3
   },
   "file_extension": ".py",
   "mimetype": "text/x-python",
   "name": "python",
   "nbconvert_exporter": "python",
   "pygments_lexer": "ipython3",
   "version": "3.12.1"
  }
 },
 "nbformat": 4,
 "nbformat_minor": 5
}
