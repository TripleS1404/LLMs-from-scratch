{
 "cells": [
  {
   "cell_type": "code",
   "execution_count": 1,
   "id": "ce7e9009-5d8a-47fe-8ba2-93927f8a69bf",
   "metadata": {},
   "outputs": [],
   "source": [
    "import torch\n",
    "import torch.nn as nn"
   ]
  },
  {
   "cell_type": "code",
   "execution_count": 14,
   "id": "a7d2aa3f-b18a-490d-8325-d0f29c5e7d91",
   "metadata": {},
   "outputs": [],
   "source": [
    "class MultiHeadAttention(nn.Module):\n",
    "\n",
    "    def __init__(self,din,dout,contextlength,dropout,numheads,qkvbias=False):\n",
    "        super().__init__()\n",
    "        assert (dout % numheads == 0), \\\n",
    "            \"dout must be divisible by numheads\"\n",
    "        \n",
    "        self.dout=dout\n",
    "        self.numheads=numheads\n",
    "        self.headdim=dout // numheads\n",
    "        \n",
    "        self.wquery=nn.Linear(din,dout,bias=qkvbias)\n",
    "        self.wkey=nn.Linear(din,dout,bias=qkvbias)\n",
    "        self.wvalue=nn.Linear(din,dout,bias=qkvbias)\n",
    "        self.outproj=nn.Linear(dout,dout)\n",
    "        self.dropout=nn.Dropout(dropout)\n",
    "        self.register_buffer('mask',torch.triu(torch.ones(contextlength,contextlength),diagonal=1))\n",
    "        \n",
    "    \n",
    "    \n",
    "    \n",
    "    def forward (self,x):\n",
    "        b,numtokens,din=x.shape\n",
    "        keys=self.wkey(x)\n",
    "        values=self.wvalue(x)\n",
    "        queries=self.wvalue(x)\n",
    "\n",
    "        keys=keys.view(b,numtokens,self.numheads,self.headdim)\n",
    "        values=values.view(b,numtokens,self.numheads,self.headdim)\n",
    "        queries=queries.view(b,numtokens,self.numheads,self.headdim)\n",
    "\n",
    "        keys=keys.transpose(1,2)\n",
    "        queries=queries.transpose(1,2)\n",
    "        values=values.transpose(1,2)\n",
    "\n",
    "        attnscores = queries @ keys.transpose(2,3)\n",
    "\n",
    "        maskbool=self.mask.bool()[:numtokens,:numtokens]\n",
    "\n",
    "        attnscores.masked_fill_(maskbool,-torch.inf)\n",
    "\n",
    "        attnweights=torch.softmax(attnscores/keys.shape[-1]**0.5,dim=-1)\n",
    "        attnweights=self.dropout(attnweights)\n",
    "\n",
    "        contextvec=(attnweights @ values). transpose(1,2)\n",
    "\n",
    "        contextvec=contextvec.contiguous().view(b,numtokens,self.dout)\n",
    "        contextvec=self.outproj(contextvec)\n",
    "\n",
    "        return contextvec\n",
    "        \n",
    "        "
   ]
  },
  {
   "cell_type": "code",
   "execution_count": 12,
   "id": "72b1e4a8-bbd5-4022-816a-fbc07fd730c9",
   "metadata": {},
   "outputs": [
    {
     "name": "stdout",
     "output_type": "stream",
     "text": [
      "torch.Size([2, 3, 6])\n"
     ]
    }
   ],
   "source": [
    "torch.manual_seed(123)\n",
    "\n",
    "inputs= torch.tensor(\n",
    "    [[0.43,0.15,0.89,0.55,0.87,0.66],\n",
    "     [0.57,0.85,0.64,0.22,0.58,0.33],\n",
    "     [0.77,0.25,0.10,0.05,0.80,0.55]]\n",
    ")\n",
    "batch=torch.stack((inputs,inputs),dim=0)\n",
    "print(batch.shape)"
   ]
  },
  {
   "cell_type": "code",
   "execution_count": 15,
   "id": "0e23b55d-7a74-4855-99dc-8ad85e34991e",
   "metadata": {},
   "outputs": [
    {
     "name": "stdout",
     "output_type": "stream",
     "text": [
      "tensor([[[-0.3364,  0.0697, -0.1239,  0.0898,  0.3611,  0.3157],\n",
      "         [-0.2439,  0.0562, -0.0920,  0.0899,  0.3436,  0.2111],\n",
      "         [-0.1770,  0.0371, -0.1079, -0.0033,  0.3518,  0.1444]],\n",
      "\n",
      "        [[-0.3364,  0.0697, -0.1239,  0.0898,  0.3611,  0.3157],\n",
      "         [-0.2439,  0.0562, -0.0920,  0.0899,  0.3436,  0.2111],\n",
      "         [-0.1770,  0.0371, -0.1079, -0.0033,  0.3518,  0.1444]]],\n",
      "       grad_fn=<ViewBackward0>)\n",
      "context_vecs.shape: torch.Size([2, 3, 6])\n"
     ]
    }
   ],
   "source": [
    "batchsize,contextlength,din=batch.shape\n",
    "dout=6\n",
    "mha=MultiHeadAttention(din,dout,contextlength,0.0,numheads=2)\n",
    "contextvecs=mha(batch)\n",
    "print(contextvecs)\n",
    "print(\"context_vecs.shape:\",contextvecs.shape)"
   ]
  },
  {
   "cell_type": "code",
   "execution_count": null,
   "id": "d20e3c63-ec3a-4acd-b6ea-6991f5d89f66",
   "metadata": {},
   "outputs": [],
   "source": []
  }
 ],
 "metadata": {
  "kernelspec": {
   "display_name": "Python 3.12 (Torch)",
   "language": "python",
   "name": "python312"
  },
  "language_info": {
   "codemirror_mode": {
    "name": "ipython",
    "version": 3
   },
   "file_extension": ".py",
   "mimetype": "text/x-python",
   "name": "python",
   "nbconvert_exporter": "python",
   "pygments_lexer": "ipython3",
   "version": "3.12.1"
  }
 },
 "nbformat": 4,
 "nbformat_minor": 5
}
